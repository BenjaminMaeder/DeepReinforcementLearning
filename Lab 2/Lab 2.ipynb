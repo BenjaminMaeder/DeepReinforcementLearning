{
 "cells": [
  {
   "cell_type": "code",
   "execution_count": 1,
   "metadata": {},
   "outputs": [],
   "source": [
    "\"\"\"\n",
    "This project was developed by Peter Chen, Rocky Duan, Pieter Abbeel for the Berkeley Deep RL Bootcamp, August 2017.\n",
    "Bootcamp website with slides and lecture videos: https://sites.google.com/view/deep-rl-bootcamp/.\n",
    "\n",
    "Code adapted from Stanford CS231N materials: http://cs231n.stanford.edu/\n",
    "\"\"\"\n",
    "\n",
    "\n",
    "# note to properly run this lab, you should execute all code blocks sequentially\n",
    "import chainer\n",
    "import chainer.functions as F\n",
    "import chainer.links as L\n",
    "from chainer import training\n",
    "from chainer.training import extensions\n",
    "\n",
    "from collections import namedtuple, defaultdict, deque\n",
    "\n",
    "import numpy as np\n",
    "\n",
    "%matplotlib inline\n",
    "\n",
    "import matplotlib\n",
    "import matplotlib.pyplot as plt"
   ]
  },
  {
   "cell_type": "markdown",
   "metadata": {},
   "source": [
    "## Introduction to Chainer\n",
    "\n",
    "Chainer can be understood as Numpy plus the ability to record the computation graph of numerical operations to enable Automatic Differentiation. (Chainer actually also offers many other things; for example, a Numpy equivalent library that runs on GPU, but we will ignore them for now)"
   ]
  },
  {
   "cell_type": "markdown",
   "metadata": {},
   "source": [
    "Let's illustrate how Chainer works by a simple 1D regression task.\n",
    "\n",
    "Suppose we have observations from the following model $y = w x + b + \\epsilon$ where $\\epsilon \\sim \\mathcal{N}(0, 0.1)$ and the task is to estimate the linear model parameters $w, b$ from data."
   ]
  },
  {
   "cell_type": "code",
   "execution_count": 2,
   "metadata": {},
   "outputs": [
    {
     "data": {
      "image/png": "[encoded data removed]",
      "text/plain": [
       "<Figure size 432x288 with 1 Axes>"
      ]
     },
     "metadata": {
      "needs_background": "light"
     },
     "output_type": "display_data"
    }
   ],
   "source": [
    "# first generate some observations\n",
    "true_a = 1.3\n",
    "true_b = 0.4\n",
    "data_x = (np.arange(100) / 99.0 - .5).astype(np.float32) # Chainer assumes all the cpu computation is done in float32\n",
    "data_y = (data_x * true_a + true_b + np.random.randn(*data_x.shape) * 0.1).astype(np.float32)\n",
    "_ = plt.scatter(data_x, data_y, c='b')"
   ]
  },
  {
   "cell_type": "markdown",
   "metadata": {},
   "source": [
    "Chainer provides an abstraction called `Link` that describe some computation and keeps track of parameters for it. For instance, a `Linear` link describes a linear map on input and keeps track of `w` and bias `b`."
   ]
  },
  {
   "cell_type": "code",
   "execution_count": 3,
   "metadata": {},
   "outputs": [
    {
     "name": "stdout",
     "output_type": "stream",
     "text": [
      "w: variable W([[ 0.53373593]])\n",
      "b: variable b([ 0.])\n",
      "Operations on chainer.Variable: variable([[ 123.53373718]]), type: <class 'chainer.variable.Variable'>\n",
      "numpy arrays: [[ 0.53373593]] [[ 123.53373718]]\n"
     ]
    }
   ],
   "source": [
    "model = L.Linear(in_size=1, out_size=1) # input is 1D data and output is also 1D data\n",
    "\n",
    "# Chainer will randomly initialize `w` and `b` for us.\n",
    "# we can take a look at their values\n",
    "print(\"w:\", model.W)\n",
    "print(\"b:\", model.b)\n",
    "\n",
    "# model.W and model.b have type `chainer.Variable`, \n",
    "#   which is a wrapper around Numpy array\n",
    "assert isinstance(model.W, chainer.Variable)\n",
    "\n",
    "# operations that involve `chainer.Variable` will produce\n",
    "#   `chainer.Variable` and this records the computation graph\n",
    "var_result = model.W + 123 # some random computation\n",
    "print(\"Operations on chainer.Variable: %s, type: %s\" % (var_result, type(var_result)))\n",
    "\n",
    "# the underlying numpy array can be accessed by `data` attribute\n",
    "print(\"numpy arrays:\", model.W.data, var_result.data)"
   ]
  },
  {
   "cell_type": "code",
   "execution_count": 4,
   "metadata": {},
   "outputs": [
    {
     "data": {
      "image/png": "[encoded data removed]",
      "text/plain": [
       "<Figure size 432x288 with 1 Axes>"
      ]
     },
     "metadata": {
      "needs_background": "light"
     },
     "output_type": "display_data"
    }
   ],
   "source": [
    "# A chainer link is a callable object. calling it performs the\n",
    "#   forward computation. (in this case, it performs Wx + b)\n",
    "model_y = model(data_x[:, None]) # chainer's link usually assumes input is [Batch Size, Input Dimension]\n",
    "# `model_y` is a chainer variable so we use `.data` to access its numpy array for plotting\n",
    "\n",
    "# we can plot the model's current fit in red. it should be terrible because we haven't trained it yet\n",
    "_ = plt.plot(data_x, model_y.data[:,0], c='r')\n",
    "_ = plt.scatter(data_x, data_y, c='b')\n",
    "_ = plt.title(\"Initial model\")\n"
   ]
  },
  {
   "cell_type": "code",
   "execution_count": 5,
   "metadata": {},
   "outputs": [
    {
     "name": "stdout",
     "output_type": "stream",
     "text": [
      "loss variable(0.22751004993915558)\n",
      "dloss/dW [[-0.13044144]]\n"
     ]
    },
    {
     "data": {
      "text/plain": [
       "array([[-0.13044144]], dtype=float32)"
      ]
     },
     "execution_count": 5,
     "metadata": {},
     "output_type": "execute_result"
    }
   ],
   "source": [
    "# now let's walk through how to perform forward computation\n",
    "#  and use AD to get gradients\n",
    "\n",
    "# first we clear the gradients that are stored in the model\n",
    "model.cleargrads()\n",
    "# as we have seen we can perform forward computation by calling the link\n",
    "model_y = model(data_x[:, None])\n",
    "\n",
    "# remember that `model_y` is a chainer variable. to operate on chainer variable\n",
    "#    we will use functions from chainer.functions to operate on those objects.\n",
    "loss = F.mean(F.square(model_y - data_y[:, None]))\n",
    "# `loss` is a scalar chainer variable\n",
    "assert isinstance(loss, chainer.Variable)\n",
    "print(\"loss\", loss)\n",
    "# calculating gradients d loss /d params is as simple as\n",
    "loss.backward()\n",
    "\n",
    "# we can inspect the gradient of loss with respect to W\n",
    "print(\"dloss/dW\", model.W.grad)\n",
    "model.W.grad"
   ]
  },
  {
   "cell_type": "markdown",
   "metadata": {},
   "source": [
    "Now that we know how to calculate gradients, we can code up a simple loop to perform gradient descent to train this model:\n",
    "\n",
    "(Hint: if you run into weird problems, maybe the state has been messed up and you can try re-runing all the code blocks from the beginning)"
   ]
  },
  {
   "cell_type": "code",
   "execution_count": 91,
   "metadata": {},
   "outputs": [
    {
     "name": "stdout",
     "output_type": "stream",
     "text": [
      "<chainer.links.connection.linear.Linear object at 0x000002742C663E10>\n",
      "Itr 0 loss: variable(0.3201199769973755)\n",
      "Itr 25 loss: variable(0.010591957718133926)\n",
      "Itr 50 loss: variable(0.008933254517614841)\n",
      "Itr 75 loss: variable(0.008913738653063774)\n"
     ]
    },
    {
     "data": {
      "image/png": "[encoded data removed]",
      "text/plain": [
       "<Figure size 432x288 with 1 Axes>"
      ]
     },
     "metadata": {
      "needs_background": "light"
     },
     "output_type": "display_data"
    },
    {
     "data": {
      "image/png": "[encoded data removed]",
      "text/plain": [
       "<Figure size 432x288 with 1 Axes>"
      ]
     },
     "metadata": {
      "needs_background": "light"
     },
     "output_type": "display_data"
    }
   ],
   "source": [
    "# now we can perform gradient descent to improve this model\n",
    "model = L.Linear(in_size=1, out_size=1)\n",
    "losses = []\n",
    "print(model)\n",
    "learning_rate = 0.5\n",
    "for i in range(100):\n",
    "    model.cleargrads()\n",
    "    loss = F.mean(F.square(model(data_x[:, None]) - data_y[:, None]))\n",
    "    losses.append(float(loss.data))\n",
    "    ## *** YOUR CODE HERE TO PERFORM GRADIENT DESCENT ***\n",
    "    ## Hint: you could access gradients with model.W.grad, model.b.grad\n",
    "    ## Hint2: you could write data into a parameter with model.W.data[:] = some_numpy_array\n",
    "    ## Hint3: if your model doesn't learn, remember to try different learning rate\n",
    "    \n",
    "    loss.backward()\n",
    "\n",
    "    \n",
    "    model.W.data -= learning_rate*model.W.grad\n",
    "    model.b.data -= learning_rate*model.b.grad\n",
    "    \n",
    "    \n",
    "    if i % 25 == 0:\n",
    "        print(\"Itr\", i, \"loss:\", loss)\n",
    "plt.plot(np.array(losses))\n",
    "plt.title(\"Learning curve\")\n",
    "plt.figure()\n",
    "plt.plot(data_x, model(data_x[:, None])[:,0].data, c='r')\n",
    "plt.scatter(data_x, data_y, c='b')\n",
    "_ = plt.title(\"Trained model fitness\")\n"
   ]
  },
  {
   "cell_type": "markdown",
   "metadata": {},
   "source": [
    "## Train your first deep model\n",
    "\n",
    "Now we have learned the basics of Chainer. We can use it to train a deep model to classify MNIST digits. We will train a model on the MNIST dataset because the dataset is small.\n",
    "\n",
    "First we load the data and see what the images look like:"
   ]
  },
  {
   "cell_type": "code",
   "execution_count": 92,
   "metadata": {
    "scrolled": false
   },
   "outputs": [
    {
     "name": "stdout",
     "output_type": "stream",
     "text": [
      "train[i][0] is the ith image that's flattened, and has shape: (784,)\n",
      "train[i][1] is the ith image's label, such as: 3\n"
     ]
    },
    {
     "data": {
      "image/png": "[encoded data removed]",
      "text/plain": [
       "<Figure size 432x288 with 1 Axes>"
      ]
     },
     "metadata": {
      "needs_background": "light"
     },
     "output_type": "display_data"
    },
    {
     "data": {
      "image/png": "[encoded data removed]",
      "text/plain": [
       "<Figure size 432x288 with 1 Axes>"
      ]
     },
     "metadata": {
      "needs_background": "light"
     },
     "output_type": "display_data"
    }
   ],
   "source": [
    "train, test = chainer.datasets.get_mnist()\n",
    "# use train[data_point_index] to access data\n",
    "print(\"train[i][0] is the ith image that's flattened, and has shape:\", train[12][0].shape)\n",
    "print(\"train[i][1] is the ith image's label, such as:\", train[12][1])\n",
    "# here we visualize two of them\n",
    "plt.imshow(train[12][0].reshape([28, 28,]))\n",
    "plt.title(\"Label: %s\" % train[12][1])\n",
    "plt.figure()\n",
    "plt.imshow(train[42][0].reshape([28, 28,]))\n",
    "_ = plt.title(\"Label: %s\" % train[42][1])"
   ]
  },
  {
   "cell_type": "markdown",
   "metadata": {},
   "source": [
    "Next we will provide some boilerplate code and train a linear classifier as an example:"
   ]
  },
  {
   "cell_type": "code",
   "execution_count": 93,
   "metadata": {},
   "outputs": [
    {
     "name": "stdout",
     "output_type": "stream",
     "text": [
      "accuracy: 0.0625; loss: 2.47245788574\n",
      "accuracy: 0.8375; loss: 0.624805793762\n",
      "accuracy: 0.91; loss: 0.415155706406\n",
      "accuracy: 0.885; loss: 0.400218289495\n",
      "accuracy: 0.9275; loss: 0.315966292918\n",
      "accuracy: 0.895; loss: 0.353644098043\n",
      "accuracy: 0.8925; loss: 0.366455956697\n",
      "accuracy: 0.8925; loss: 0.423958382308\n",
      "accuracy: 0.9; loss: 0.339244449735\n",
      "accuracy: 0.91; loss: 0.331542938352\n",
      "accuracy: 0.92; loss: 0.28803498894\n",
      "accuracy: 0.8975; loss: 0.403437613249\n",
      "accuracy: 0.9125; loss: 0.351050040126\n",
      "accuracy: 0.9125; loss: 0.357211547494\n",
      "accuracy: 0.9225; loss: 0.280873120129\n",
      "accuracy: 0.905; loss: 0.306028329134\n",
      "accuracy: 0.9175; loss: 0.295619719326\n",
      "accuracy: 0.915; loss: 0.350378778875\n",
      "accuracy: 0.92; loss: 0.273883713484\n",
      "accuracy: 0.9125; loss: 0.31434076488\n",
      "accuracy: 0.9225; loss: 0.297561420798\n",
      "accuracy: 0.9325; loss: 0.237578665316\n",
      "accuracy: 0.91; loss: 0.311245345771\n",
      "accuracy: 0.92; loss: 0.296615327597\n",
      "accuracy: 0.93; loss: 0.301104186475\n",
      "accuracy: 0.91; loss: 0.329362923205\n"
     ]
    }
   ],
   "source": [
    "def run(model, batchsize=16, num_epochs=2):\n",
    "    \n",
    "    optimizer = chainer.optimizers.Adam() # we will use chainer's Adam implementation instead of writing our own gradient based optimization\n",
    "    optimizer.setup(model)\n",
    "    \n",
    "    stats = defaultdict(lambda: deque(maxlen=25))\n",
    "    for epoch in range(num_epochs):\n",
    "        train_iter = chainer.iterators.SerialIterator(train, batchsize, repeat=False, shuffle=True)\n",
    "        test_iter = chainer.iterators.SerialIterator(test, batchsize, repeat=False, shuffle=False)\n",
    "        \n",
    "        for itr, batch in enumerate(train_iter):\n",
    "            xs = np.concatenate([datum[0][None, :] for datum in batch])\n",
    "            ys = np.array([datum[1] for datum in batch])\n",
    "\n",
    "            logits = model(xs)\n",
    "\n",
    "            loss = F.softmax_cross_entropy(logits, ys)\n",
    "            model.cleargrads()\n",
    "            loss.backward()\n",
    "            optimizer.update()\n",
    "            \n",
    "            # calculate stats\n",
    "            stats[\"loss\"].append(float(loss.data))\n",
    "            stats[\"accuracy\"].append(float((logits.data.argmax(1) == ys).sum() / batchsize))\n",
    "            if itr % 300 == 0:\n",
    "                print(\"; \".join(\"%s: %s\" % (k, np.mean(vs)) for k, vs in stats.items()))\n",
    "\n",
    "# try a simple linear model\n",
    "run(L.Linear(None, 10))"
   ]
  },
  {
   "cell_type": "markdown",
   "metadata": {},
   "source": [
    "Next we will try to improve performance by training an MLP instead. A partial implementation is provided for you to fill in:"
   ]
  },
  {
   "cell_type": "code",
   "execution_count": 94,
   "metadata": {},
   "outputs": [
    {
     "name": "stdout",
     "output_type": "stream",
     "text": [
      "accuracy: 0.1875; loss: 2.48480463028\n",
      "accuracy: 0.845; loss: 0.609363435507\n",
      "accuracy: 0.895; loss: 0.390662333965\n",
      "accuracy: 0.905; loss: 0.345846435428\n",
      "accuracy: 0.94; loss: 0.223652477264\n",
      "accuracy: 0.925; loss: 0.213305950761\n",
      "accuracy: 0.9275; loss: 0.226514946818\n",
      "accuracy: 0.925; loss: 0.23660037756\n",
      "accuracy: 0.93; loss: 0.220148723125\n",
      "accuracy: 0.955; loss: 0.153406014442\n",
      "accuracy: 0.935; loss: 0.194644129872\n",
      "accuracy: 0.9375; loss: 0.142566369772\n",
      "accuracy: 0.9575; loss: 0.138831032515\n",
      "accuracy: 0.945; loss: 0.169978882074\n",
      "accuracy: 0.9675; loss: 0.12093590498\n",
      "accuracy: 0.9625; loss: 0.152222934663\n",
      "accuracy: 0.975; loss: 0.107472103238\n",
      "accuracy: 0.955; loss: 0.145045688152\n",
      "accuracy: 0.9825; loss: 0.0674143916368\n",
      "accuracy: 0.96; loss: 0.105519853234\n",
      "accuracy: 0.98; loss: 0.0849369412661\n",
      "accuracy: 0.9675; loss: 0.12934953779\n",
      "accuracy: 0.935; loss: 0.19600740999\n",
      "accuracy: 0.975; loss: 0.10150859952\n",
      "accuracy: 0.9575; loss: 0.157138501704\n",
      "accuracy: 0.98; loss: 0.065271769464\n"
     ]
    }
   ],
   "source": [
    "class MLP(chainer.Chain): # MLP is a multilayer perceptron\n",
    "\n",
    "    def __init__(self, n_units, n_out):\n",
    "        super(MLP, self).__init__()\n",
    "        with self.init_scope():\n",
    "            # the size of the inputs to each layer will be inferred\n",
    "            self.l1 = L.Linear(None, n_units)  # n_in -> n_units\n",
    "            self.l2 = L.Linear(None, n_units)  # n_units -> n_units\n",
    "            self.l3 = L.Linear(None, n_out)  # n_units -> n_out\n",
    "\n",
    "    def __call__(self, x):\n",
    "        # *** YOUR CODE HERE TO BUILD AN MLP W/ self.l1, self.l2, self.l3 ***\n",
    "        x = F.sigmoid(self.l1(x))#first layer\n",
    "        x = F.sigmoid(self.l2(x))#second layer\n",
    "        x = self.l3(x)#output\n",
    "        return x\n",
    "        # Hint: you should make use of non-linearities / activation functions\n",
    "        #     https://docs.chainer.org/en/stable/reference/functions.html#activation-functions\n",
    "        raise NotImplementedError()\n",
    "run(MLP(200, 10))"
   ]
  },
  {
   "cell_type": "markdown",
   "metadata": {},
   "source": [
    "Next you should try to implement logging test loss and see if the model is overfitting."
   ]
  },
  {
   "cell_type": "code",
   "execution_count": 38,
   "metadata": {},
   "outputs": [
    {
     "name": "stdout",
     "output_type": "stream",
     "text": [
      "test_accuracy: 0.1009; accuracy: 0.125; loss: 2.368953228; test_loss: 2.38849973679\n",
      "test_accuracy: 0.8788; accuracy: 0.85; loss: 0.581720743179; test_loss: 1.45160606503\n",
      "test_accuracy: 0.9037; accuracy: 0.9075; loss: 0.337721886039; test_loss: 1.08318651716\n",
      "test_accuracy: 0.9138; accuracy: 0.9; loss: 0.307587141395; test_loss: 0.887344039977\n",
      "test_accuracy: 0.919; accuracy: 0.8875; loss: 0.388658862114; test_loss: 0.764327090979\n",
      "test_accuracy: 0.9244; accuracy: 0.91; loss: 0.261785156131; test_loss: 0.678750395775\n",
      "test_accuracy: 0.928; accuracy: 0.9125; loss: 0.286296497583; test_loss: 0.615862699492\n",
      "test_accuracy: 0.9345; accuracy: 0.9275; loss: 0.214504464865; test_loss: 0.566716253757\n",
      "test_accuracy: 0.9319; accuracy: 0.92; loss: 0.24782943666; test_loss: 0.528841866387\n",
      "test_accuracy: 0.9352; accuracy: 0.94; loss: 0.188741499186; test_loss: 0.496102559566\n",
      "test_accuracy: 0.9473; accuracy: 0.9425; loss: 0.213292233944; test_loss: 0.467140891335\n",
      "test_accuracy: 0.9488; accuracy: 0.935; loss: 0.195440842509; test_loss: 0.44252950574\n",
      "test_accuracy: 0.9475; accuracy: 0.9575; loss: 0.200356137753; test_loss: 0.421789702315\n",
      "test_accuracy: 0.9505; accuracy: 0.91; loss: 0.265645818412; test_loss: 0.40320364918\n",
      "test_accuracy: 0.9519; accuracy: 0.95; loss: 0.184223840535; test_loss: 0.387033635378\n",
      "test_accuracy: 0.9567; accuracy: 0.9675; loss: 0.107189379632; test_loss: 0.371778905392\n",
      "test_accuracy: 0.9555; accuracy: 0.955; loss: 0.133769527078; test_loss: 0.358551888781\n",
      "test_accuracy: 0.9574; accuracy: 0.9575; loss: 0.141756594777; test_loss: 0.346480311619\n",
      "test_accuracy: 0.9608; accuracy: 0.965; loss: 0.111716307998; test_loss: 0.335063739043\n",
      "test_accuracy: 0.9617; accuracy: 0.9575; loss: 0.165250576735; test_loss: 0.324387545884\n",
      "test_accuracy: 0.9625; accuracy: 0.9525; loss: 0.147373461127; test_loss: 0.314848987474\n",
      "test_accuracy: 0.9627; accuracy: 0.9775; loss: 0.0683950608969; test_loss: 0.306083494289\n",
      "test_accuracy: 0.9546; accuracy: 0.9575; loss: 0.127537863851; test_loss: 0.299261858282\n",
      "test_accuracy: 0.9661; accuracy: 0.9575; loss: 0.14904120177; test_loss: 0.291358189347\n",
      "test_accuracy: 0.9681; accuracy: 0.97; loss: 0.0952300214767; test_loss: 0.28396497488\n",
      "test_accuracy: 0.967; accuracy: 0.9575; loss: 0.15005666256; test_loss: 0.192730430663\n"
     ]
    }
   ],
   "source": [
    "def better_run(model, batchsize=16, num_epochs=2):\n",
    "\n",
    "    optimizer = chainer.optimizers.Adam() # we will use chainer's Adam implementation instead of writing our own gradient based optimization\n",
    "    optimizer.setup(model)\n",
    "    \n",
    "    stats = defaultdict(lambda: deque(maxlen=25))\n",
    "    for epoch in range(num_epochs):\n",
    "        train_iter = chainer.iterators.SerialIterator(train, batchsize, repeat=False, shuffle=True)\n",
    "        for itr, batch in enumerate(train_iter):\n",
    "            xs = np.concatenate([datum[0][None, :] for datum in batch])\n",
    "            ys = np.array([datum[1] for datum in batch])\n",
    "\n",
    "            logits = model(xs)\n",
    "\n",
    "            loss = F.softmax_cross_entropy(logits, ys)\n",
    "            model.cleargrads()\n",
    "            loss.backward()\n",
    "            optimizer.update()\n",
    "            \n",
    "            # calculate stats\n",
    "            stats[\"loss\"].append(float(loss.data))\n",
    "            stats[\"accuracy\"].append(float((logits.data.argmax(1) == ys).sum() / batchsize))\n",
    "            if itr % 300 == 0:\n",
    "                test_iter = chainer.iterators.SerialIterator(test, batchsize, repeat=False, shuffle=False)\n",
    "                # *** YOUR CODE implement logging of stats on test set ***\n",
    "                \n",
    "                \n",
    "                #Usage of code from linear model above to logging stats for test set\n",
    "                xs = np.concatenate([datum[0][None, :] for datum in test])#test is test set from mnist (split above)\n",
    "                ys = np.array([datum[1] for datum in test])\n",
    "                \n",
    "                logits = model(xs)#model is linear model from above\n",
    "                \n",
    "                stats[\"test_accuracy\"] = F.accuracy(logits, ys).data#chainer method for accuracy\n",
    "                \n",
    "                loss = F.softmax_cross_entropy(logits, ys)\n",
    "                stats[\"test_loss\"].append(float(loss.data))\n",
    "                \n",
    "    \n",
    "                \n",
    "                \n",
    "                print(\"; \".join(\"%s: %s\" % (k, np.mean(vs)) for k, vs in stats.items()))\n",
    "\n",
    "better_run(MLP(200, 10))"
   ]
  },
  {
   "cell_type": "markdown",
   "metadata": {},
   "source": [
    "test_accuracy higher than accuracy\n",
    "\n",
    "Learning rate seems to be okay"
   ]
  },
  {
   "cell_type": "markdown",
   "metadata": {},
   "source": [
    "Try different variants!\n",
    "\n",
    "- Does using a ConvNet improve performance (reduce overfitting?)\n",
    "- Try changing the learning rate and observe the effect\n",
    "- Does the model train if you give it correlated gradients? (consecutively sample many batches of \"1\", then many batches of \"2\", ... etc"
   ]
  },
  {
   "cell_type": "markdown",
   "metadata": {},
   "source": [
    "# Using ConvNet \n",
    "\n",
    "Learning rate for ConvNet has to be changed so that learning curve shows better response\n",
    "Also number of channels in a batch is set to 0. There is only one image?!"
   ]
  },
  {
   "cell_type": "code",
   "execution_count": 115,
   "metadata": {},
   "outputs": [
    {
     "name": "stdout",
     "output_type": "stream",
     "text": [
      "<chainer.links.connection.convolution_nd.ConvolutionND object at 0x0000027430118748>\n",
      "Itr 0 loss: variable(1.0796468257904053)\n",
      "Itr 25 loss: variable(0.1117238998413086)\n",
      "Itr 50 loss: variable(0.02062966488301754)\n",
      "Itr 75 loss: variable(0.010248665697872639)\n"
     ]
    },
    {
     "data": {
      "image/png": "[encoded data removed]",
      "text/plain": [
       "<Figure size 432x288 with 1 Axes>"
      ]
     },
     "metadata": {
      "needs_background": "light"
     },
     "output_type": "display_data"
    },
    {
     "data": {
      "image/png": "[encoded data removed]",
      "text/plain": [
       "<Figure size 432x288 with 1 Axes>"
      ]
     },
     "metadata": {
      "needs_background": "light"
     },
     "output_type": "display_data"
    }
   ],
   "source": [
    "# now we can perform gradient descent to improve this model\n",
    "model = L.ConvolutionND(0,1,2,1)#ConvolutionND instead of linear model\n",
    "losses = []\n",
    "print(model)\n",
    "learning_rate = 0.5#different learning rate\n",
    "for i in range(100):\n",
    "    model.cleargrads()\n",
    "    loss = F.mean(F.square(model(data_x[:, None]) - data_y[:, None]))\n",
    "    losses.append(float(loss.data))\n",
    "    ## *** YOUR CODE HERE TO PERFORM GRADIENT DESCENT ***\n",
    "    ## Hint: you could access gradients with model.W.grad, model.b.grad\n",
    "    ## Hint2: you could write data into a parameter with model.W.data[:] = some_numpy_array\n",
    "    ## Hint3: if your model doesn't learn, remember to try different learning rate\n",
    "    \n",
    "    loss.backward()\n",
    "\n",
    "    \n",
    "    model.W.data -= learning_rate*model.W.grad\n",
    "    model.b.data -= learning_rate*model.b.grad\n",
    "    \n",
    "    \n",
    "    if i % 25 == 0:\n",
    "        print(\"Itr\", i, \"loss:\", loss)\n",
    "plt.plot(np.array(losses))\n",
    "plt.title(\"Learning curve\")\n",
    "plt.figure()\n",
    "plt.plot(data_x, model(data_x[:, None])[:,0].data, c='r')\n",
    "plt.scatter(data_x, data_y, c='b')\n",
    "_ = plt.title(\"Trained model fitness\")\n"
   ]
  },
  {
   "cell_type": "markdown",
   "metadata": {},
   "source": [
    "Line fit is not 100% perfect. Linear model seems to work better."
   ]
  }
 ],
 "metadata": {
  "kernelspec": {
   "display_name": "Python [conda env:deeprlbootcamp]",
   "language": "python",
   "name": "conda-env-deeprlbootcamp-py"
  },
  "language_info": {
   "codemirror_mode": {
    "name": "ipython",
    "version": 3
   },
   "file_extension": ".py",
   "mimetype": "text/x-python",
   "name": "python",
   "nbconvert_exporter": "python",
   "pygments_lexer": "ipython3",
   "version": "3.5.6"
  }
 },
 "nbformat": 4,
 "nbformat_minor": 1
}
